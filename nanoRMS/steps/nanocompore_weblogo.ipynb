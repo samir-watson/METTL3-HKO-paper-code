{
 "cells": [
  {
   "cell_type": "code",
   "execution_count": 26,
   "metadata": {},
   "outputs": [],
   "source": [
    "import pandas as pd\n",
    "\n",
    "# Load the TSV file into a DataFrame\n",
    "df = pd.read_csv('/home/peterkad/pkadbioinfproject/nanocompore_results/nanocompore.results.KS_intensity_pvalue.0.01_context_2.sorted.filtered.tsv', sep='\\t')"
   ]
  },
  {
   "cell_type": "code",
   "execution_count": 27,
   "metadata": {},
   "outputs": [],
   "source": [
    "# Define a function to check if a 5-mer contains the DRACH motif\n",
    "# DRACH IS NOT DRACH\n",
    "def is_drach(mer):\n",
    "    d = ['G', 'A', 'U']\n",
    "    r = ['G', 'A']\n",
    "    h = ['A', 'U', 'C']\n",
    "    return mer[0] in d and mer[2] == 'A' and mer[3] in r and mer[4] in h"
   ]
  },
  {
   "cell_type": "code",
   "execution_count": 28,
   "metadata": {},
   "outputs": [],
   "source": [
    "# Filter the DataFrame for rows where the 5-mer column contains the DRACH motif\n",
    "#filtered_df = df[df['ref_kmer'].apply(is_drach)]\n",
    "\n",
    "# Apply the first filter for rows where the GMM_logit_pvalue_context_2 column is under 0.05\n",
    "#filtered_df_1 = filtered_df[filtered_df['GMM_logit_pvalue_context_2'] < 0.2]\n",
    "\n",
    "# Apply the second filter for rows where the Logit_LOR column is over 0\n",
    "# and where the KS_intensity_pvalue_context_2 column is under 0.05\n",
    "filtered_df_2 = df[(df['Logit_LOR'] < -0.5) & (df['KS_intensity_pvalue_context_2'] < 0.05)]\n"
   ]
  },
  {
   "cell_type": "code",
   "execution_count": 29,
   "metadata": {},
   "outputs": [],
   "source": [
    "# Take the intersection of the two filtered DataFrames\n",
    "#intersection_df = pd.merge(filtered_df_1, filtered_df_2)\n",
    "\n",
    "# Add 2 to the genome_position column\n",
    "#intersection_df['genomicPos'] += 2\n",
    "\n",
    "#filtered_df_2['genomicPos'] += 2 \n",
    "#print(filtered_df_1.shape)\n",
    "#print(filtered_df_2.shape)\n",
    "# Display the resulting DataFrame\n",
    "#print(intersection_df)\n",
    "\n",
    "#print(filtered_df_2['genomicPos'])"
   ]
  },
  {
   "cell_type": "code",
   "execution_count": 30,
   "metadata": {},
   "outputs": [],
   "source": [
    "# Create a new DataFrame with the intersection as a column called 'Genome_pos'\n",
    "#result = pd.DataFrame({'chr':filtered_df_2['chr'],'pos': filtered_df_2['genomicPos'],'seq':filtered_df_2['ref_kmer']})\n",
    "\n",
    "# Add a new column called 'M6a' with the value 'Yes'\n",
    "#result['M6a'] = 'Yes'\n",
    "\n",
    "# Save the result DataFrame to a CSV file\n",
    "#result.to_csv('nanocomporeresult_weblogo.tsv', index=False, sep='\\t')\n",
    "pd.DataFrame(filtered_df_2['ref_kmer']).to_csv('nanocomporeweblogo_sequence_LORunderminus05',index=False,header=False)"
   ]
  }
 ],
 "metadata": {
  "kernelspec": {
   "display_name": "nanorms",
   "language": "python",
   "name": "python3"
  },
  "language_info": {
   "codemirror_mode": {
    "name": "ipython",
    "version": 3
   },
   "file_extension": ".py",
   "mimetype": "text/x-python",
   "name": "python",
   "nbconvert_exporter": "python",
   "pygments_lexer": "ipython3",
   "version": "3.6.11"
  },
  "orig_nbformat": 4
 },
 "nbformat": 4,
 "nbformat_minor": 2
}
