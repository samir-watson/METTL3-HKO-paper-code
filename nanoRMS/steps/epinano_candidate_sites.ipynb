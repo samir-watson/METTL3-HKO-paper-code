{
 "cells": [
  {
   "cell_type": "code",
   "execution_count": 1,
   "metadata": {},
   "outputs": [],
   "source": [
    "import pandas as pd\n",
    "\n",
    "# List of CSV files\n",
    "files = [\"/home/peterkad/pkadbioinfproject/epinano_for_pk/epinano_Diff_error/A56_2.WT_2_epinano_diffErr_.delta-sum_err.prediction.csv\",\n",
    "\"/home/peterkad/pkadbioinfproject/epinano_for_pk/epinano_Diff_error/A56_2.WT_2_epinano_diffErr_.linear-regression.prediction.csv\",\n",
    "\"/home/peterkad/pkadbioinfproject/epinano_for_pk/epinano_Diff_error/A56_3.WT_3_epinano_diffErr_.delta-sum_err.prediction.csv\",\n",
    "\"/home/peterkad/pkadbioinfproject/epinano_for_pk/epinano_Diff_error/A56_3.WT_3_epinano_diffErr_.linear-regression.prediction.csv\",\n",
    "\"/home/peterkad/pkadbioinfproject/epinano_for_pk/epinano_Diff_error/B46_2.WT_2_epinano_diffErr_.delta-sum_err.prediction.csv\",\n",
    "\"/home/peterkad/pkadbioinfproject/epinano_for_pk/epinano_Diff_error/B46_2.WT_2_epinano_diffErr_.linear-regression.prediction.csv\",\n",
    "\"/home/peterkad/pkadbioinfproject/epinano_for_pk/epinano_Diff_error/B46_3.WT_3_epinano_diffErr_.delta-sum_err.prediction.csv\",\n",
    "\"/home/peterkad/pkadbioinfproject/epinano_for_pk/epinano_Diff_error/B46_3.WT_3_epinano_diffErr_.linear-regression.prediction.csv\"]\n",
    "\n",
    "# Create a list to store the filtered DataFrames\n",
    "filtered_dfs = []"
   ]
  },
  {
   "cell_type": "code",
   "execution_count": 2,
   "metadata": {},
   "outputs": [],
   "source": [
    "# Loop through the list of files\n",
    "for file in files:\n",
    "    # Load the CSV file\n",
    "    df = pd.read_csv(file)\n",
    "\n",
    "    # Split the 'chr_pos' column into multiple columns\n",
    "    df[['ENST', 'chrpos', 'nuc', 'strand']] = df['chr_pos'].str.split(' ', expand=True)\n",
    "\n",
    "    # Drop the original 'chr_pos' column\n",
    "    df = df.drop('chr_pos', axis=1)\n",
    "\n",
    "    # Check if the DataFrame has a 'z_score_prediction' column or a 'lm_residuals_z_scores_prediction' column\n",
    "    if 'z_score_prediction' in df.columns:\n",
    "        z_score_col = 'z_score_prediction'\n",
    "    elif 'lm_residuals_z_scores_prediction' in df.columns:\n",
    "        z_score_col = 'lm_residuals_z_scores_prediction'\n",
    "    else:\n",
    "        raise ValueError('DataFrame does not have a z_score_prediction or lm_residuals_z_scores_prediction column')\n",
    "\n",
    "    # Filter the DataFrame\n",
    "    filtered_df = df[(df['nuc'] == 'A') & (df[z_score_col] == 'mod')]\n",
    "\n",
    "    # Append the filtered DataFrame to the list\n",
    "    filtered_dfs.append(filtered_df)"
   ]
  },
  {
   "cell_type": "code",
   "execution_count": null,
   "metadata": {},
   "outputs": [],
   "source": []
  },
  {
   "cell_type": "code",
   "execution_count": 3,
   "metadata": {},
   "outputs": [
    {
     "name": "stdout",
     "output_type": "stream",
     "text": [
      "{'163', '518', '215', '1223', '325', '198', '820', '151', '391', '594', '557', '1057', '169', '348', '73', '724', '693', '853', '445', '114', '546', '31', '924', '987', '266', '309', '1802', '333', '866', '452', '234', '514', '678', '410', '646', '561', '258', '828', '625', '520', '120', '715', '887', '362', '305', '808', '624', '384', '1129', '686', '892', '725', '444', '397', '776', '111', '551', '499', '407', '271', '573', '245', '747', '1265', '402', '842', '667', '424', '303', '697', '665', '1017', '270', '403', '356', '512', '418', '1287', '201', '493', '988', '470', '650', '592', '389', '216', '103', '364', '327', '200', '515', '1020', '720', '688', '574', '181', '178', '748', '1037', '689', '1082', '173', '555', '228', '662', '626', '430', '355', '188', '489', '495', '174', '86', '483', '719', '363', '1239', '1371', '248', '153', '437', '199', '112', '286', '645', '282', '330', '351', '244', '192', '218', '227', '752', '538', '340', '214', '750', '630', '412', '1045', '982', '366', '670', '165', '806', '615', '529', '408', '1152', '743', '537', '593', '432', '276', '447', '320'}\n"
     ]
    }
   ],
   "source": [
    "# Find the intersection of the 'genomicPos' column\n",
    "intersection = set(filtered_dfs[0]['chrpos'])\n",
    "for df in filtered_dfs[1:]:\n",
    "    intersection = intersection & set(df['chrpos'])\n",
    "\n",
    "# Print the intersection\n",
    "print(intersection)"
   ]
  },
  {
   "cell_type": "code",
   "execution_count": 4,
   "metadata": {},
   "outputs": [],
   "source": [
    "# Create a new DataFrame with the intersection as a column called 'chr_pos'\n",
    "result = pd.DataFrame({'chr_pos': list(intersection)})\n",
    "\n",
    "# Add a new column called 'M6a' with the value 'Yes'\n",
    "result['M6a'] = 'Yes'\n",
    "\n",
    "# Save the result DataFrame to a CSV file\n",
    "result.to_csv('epinanoresult_chr.csv', index=False)"
   ]
  }
 ],
 "metadata": {
  "kernelspec": {
   "display_name": "nanorms",
   "language": "python",
   "name": "python3"
  },
  "language_info": {
   "codemirror_mode": {
    "name": "ipython",
    "version": 3
   },
   "file_extension": ".py",
   "mimetype": "text/x-python",
   "name": "python",
   "nbconvert_exporter": "python",
   "pygments_lexer": "ipython3",
   "version": "3.6.11"
  },
  "orig_nbformat": 4
 },
 "nbformat": 4,
 "nbformat_minor": 2
}
