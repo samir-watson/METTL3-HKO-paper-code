{
 "cells": [
  {
   "cell_type": "code",
   "execution_count": 1,
   "metadata": {},
   "outputs": [],
   "source": [
    "\n",
    "\n",
    "import pandas as pd\n",
    "from gwf import Workflow\n",
    "from gwf import AnonymousTarget\n",
    "import os\n"
   ]
  },
  {
   "attachments": {},
   "cell_type": "markdown",
   "metadata": {},
   "source": [
    "# the nanocompore data should be filtered and merged with gene-names from biomart to provide context."
   ]
  },
  {
   "cell_type": "code",
   "execution_count": 9,
   "metadata": {},
   "outputs": [],
   "source": [
    "#sort nanocompore data\n",
    "nanocompore_result = pd.read_csv('/home/peterkad/pkadbioinfproject/nanocompore_results/nanocompore.results.KS_intensity_pvalue.0.01_context_2.sorted.filtered.tsv', sep='\\t')\n",
    "nanocompore_result_filtered = nanocompore_result[nanocompore_result['Logit_LOR'] > 0]\n",
    "nanocompore_result_sorted_KSI2 = nanocompore_result_filtered.sort_values(by=['Logit_LOR'], ascending=False)\n",
    "sorted_genenames = pd.read_csv(\"/home/peterkad/pkadbioinfproject/testguppy/steps/mart_export (5).txt\",sep='\\t')\n",
    "nanocompore_result_sorted_KSI2_genename = pd.merge(nanocompore_result_sorted_KSI2, sorted_genenames, left_on='ref_id',right_on='Transcript stable ID version', how='left').drop(columns=['Transcript stable ID version'])\n",
    "\n"
   ]
  },
  {
   "cell_type": "code",
   "execution_count": 11,
   "metadata": {},
   "outputs": [],
   "source": [
    "nanocompore_result_sorted_KSI2_genename[[\"ref_id\",\"pos\",\"Logit_LOR\",\"Gene name\",\"Gene type\"]].head(100).to_csv('/home/peterkad/pkadbioinfproject/testguppy/steps/nanocomporeresult_genename_sorted.tsv', sep='\\t', index=False)"
   ]
  },
  {
   "cell_type": "code",
   "execution_count": 6,
   "metadata": {},
   "outputs": [],
   "source": [
    "nanocompore_result_sorted_KSI2['ref_id'].to_csv('/home/peterkad/pkadbioinfproject/testguppy/steps/nanocomporeresult_sorted_refid.tsv', sep='\\t', index=False)"
   ]
  },
  {
   "cell_type": "code",
   "execution_count": 13,
   "metadata": {},
   "outputs": [],
   "source": [
    "# Define a function to check if a 5-mer contains the DRACH motif\n",
    "def is_drach(mer):\n",
    "    d = ['G', 'A', 'U']\n",
    "    r = ['G', 'A']\n",
    "    h = ['A', 'U', 'C']\n",
    "    return mer[0] in d and mer[1] in r and mer[2] == 'A' and mer[3] == 'C' and mer[4] in h"
   ]
  },
  {
   "attachments": {},
   "cell_type": "markdown",
   "metadata": {},
   "source": [
    "# WE create a list of targets that are DRACH and not DRACH motifs."
   ]
  },
  {
   "cell_type": "code",
   "execution_count": 19,
   "metadata": {},
   "outputs": [],
   "source": [
    "DRACHfiltered_df = nanocompore_result_filtered[nanocompore_result_filtered['ref_kmer'].apply(is_drach)]\n",
    "DRACHfiltered_df = DRACHfiltered_df.sort_values(by=['Logit_LOR'], ascending=False)"
   ]
  },
  {
   "cell_type": "code",
   "execution_count": null,
   "metadata": {},
   "outputs": [],
   "source": [
    "DRACHfiltered_df[[\"ref_id\",\"pos\",\"Logit_LOR\"]].head(50).to_csv('/home/peterkad/pkadbioinfproject/testguppy/steps/nanocomporeresult_sorted_DRACH.tsv', sep='\\t', index=False)\n"
   ]
  },
  {
   "cell_type": "code",
   "execution_count": 21,
   "metadata": {},
   "outputs": [],
   "source": [
    "notDRACHfiltered_df = nanocompore_result_filtered[~nanocompore_result_filtered['ref_kmer'].apply(is_drach)]\n",
    "notDRACHfiltered_df[[\"ref_id\",\"pos\",\"Logit_LOR\"]].head(100).to_csv('/home/peterkad/pkadbioinfproject/testguppy/steps/nanocomporeresult_sorted2.tsv', sep='\\t', index=False)"
   ]
  },
  {
   "attachments": {},
   "cell_type": "markdown",
   "metadata": {},
   "source": [
    "# scratchpad math"
   ]
  },
  {
   "cell_type": "code",
   "execution_count": 4,
   "metadata": {},
   "outputs": [
    {
     "data": {
      "text/plain": [
       "8"
      ]
     },
     "execution_count": 4,
     "metadata": {},
     "output_type": "execute_result"
    }
   ],
   "source": [
    "df = pd.read_csv(\"/home/peterkad/pkadbioinfproject/testguppy/steps/nanocomporeresult_genename_sorted.tsv\",sep='\\t')\n",
    "df['Gene name'].str.startswith('MT-').sum()-df['Gene type'].str.startswith('Mt_rRNA').sum()\n"
   ]
  },
  {
   "cell_type": "code",
   "execution_count": 5,
   "metadata": {},
   "outputs": [],
   "source": [
    "positions = [(\"ENST00000387347.2\",\"1318\"),(\"ENST00000361789.2\",\"213\"),(\"ENST00000215754.8\", \"218\")]"
   ]
  },
  {
   "cell_type": "code",
   "execution_count": 9,
   "metadata": {},
   "outputs": [],
   "source": [
    "GOterms = pd.read_csv('/home/peterkad/pkadbioinfproject/testguppy/steps/Gene list for H. sapiens 13 Jun 2023 14_03_13 Gene Ontology Enrichment.tsv', sep='\\t')\n",
    "GOterms.columns = ['stuff','pval','other stuff','goterms']\n",
    "\n",
    "GOterms = GOterms.drop(columns=['stuff','other stuff'])\n",
    "GOterms = GOterms[['goterms','pval']]\n"
   ]
  },
  {
   "cell_type": "code",
   "execution_count": 10,
   "metadata": {},
   "outputs": [],
   "source": [
    "\n",
    "GOterms[['goterms','pval']].to_csv('/home/peterkad/pkadbioinfproject/testguppy/steps/GOtermspval.tsv',sep='\\t',index=False)\n"
   ]
  },
  {
   "cell_type": "code",
   "execution_count": 10,
   "metadata": {},
   "outputs": [],
   "source": [
    "tombo = pd.read_csv('/home/peterkad/pkadbioinfproject/testguppy/results/tombo_diffmod1.tsv', sep='\\t')\n",
    "\n",
    "tombo = tombo[tombo['min coverage'] > 30].drop(columns=[\"strand\", \"mod_freq diff knn\"])\n",
    "tombo.sort_values(by=['mod_freq diff kmeans'], ascending=True).head(50).to_csv('/home/peterkad/pkadbioinfproject/testguppy/steps/tombo_diffmod1_filtered.tsv', sep='\\t', index=False)"
   ]
  }
 ],
 "metadata": {
  "kernelspec": {
   "display_name": "nanorms",
   "language": "python",
   "name": "python3"
  },
  "language_info": {
   "codemirror_mode": {
    "name": "ipython",
    "version": 3
   },
   "file_extension": ".py",
   "mimetype": "text/x-python",
   "name": "python",
   "nbconvert_exporter": "python",
   "pygments_lexer": "ipython3",
   "version": "3.6.11"
  },
  "orig_nbformat": 4
 },
 "nbformat": 4,
 "nbformat_minor": 2
}
