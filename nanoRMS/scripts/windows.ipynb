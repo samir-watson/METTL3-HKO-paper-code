{
 "cells": [
  {
   "cell_type": "code",
   "execution_count": 1,
   "metadata": {},
   "outputs": [],
   "source": [
    "import dask.dataframe as dd\n",
    "import pandas as pd\n",
    "import sys\n",
    "import os"
   ]
  },
  {
   "cell_type": "code",
   "execution_count": 2,
   "metadata": {},
   "outputs": [],
   "source": [
    "df = dd.read_csv('/home/peterkad/pkadbioinfproject/testguppy/data/METTL3/WT_1_HQcalls_RMS/run.transcriptome.aligned.eventalign.tsv_processed_perpos_mean_fixedcontig.tsv',sep='\\t', blocksize=1e9)"
   ]
  },
  {
   "cell_type": "code",
   "execution_count": 3,
   "metadata": {},
   "outputs": [],
   "source": [
    "def process(contig,position,data, label):\n",
    "\tprint(\"Processing {}_{}\".format(contig,position))\n",
    "\tchr = str(contig)\n",
    "\tsubs = data[data['contig'] == chr]\n",
    "\tdata['position'] += 3 # Add 3 nt to each position \n",
    "\tdata['Pos'] = data['contig'].astype(str) + '_' + data['position'].astype(str) # Unique column\n",
    "\tdata['sample'] = label #Add label\n",
    "\twindows = pd.DataFrame() # Create an empty DataFrame\n",
    "\t#Create windows file\n",
    "\t\n",
    "\tsubs = data[data['contig'] == chr]\n",
    "\tmod = int(position)\n",
    "\twindow = [mod + i for i in range(-7, 8)]\n",
    "\tfor wind in window:\n",
    "\t\tsubs2 = subs[subs['position'] == wind]\n",
    "\t\tif len(subs2) > 1:\n",
    "\t\t\tsubs2['modification'] = chr + '_' + str(mod)\n",
    "\t\t\tsubs2['reference'] = str(wind - mod)\n",
    "\t\t\twindows = pd.concat([windows, subs2])\n",
    "\treturn windows"
   ]
  },
  {
   "cell_type": "code",
   "execution_count": 4,
   "metadata": {},
   "outputs": [],
   "source": [
    "df = df.map_partitions(lambda df: df[df['contig'] == 'ENST00000007516.8'] )\n",
    "\n"
   ]
  },
  {
   "cell_type": "code",
   "execution_count": 5,
   "metadata": {},
   "outputs": [
    {
     "name": "stdout",
     "output_type": "stream",
     "text": [
      "Processing ENST00000007516.8_490\n"
     ]
    }
   ],
   "source": [
    "df = df.map_partitions(process(\"ENST00000007516.8\",\"490\",df,\"WT_1\"))"
   ]
  },
  {
   "cell_type": "code",
   "execution_count": 30,
   "metadata": {},
   "outputs": [
    {
     "data": {
      "text/plain": [
       "3012192"
      ]
     },
     "execution_count": 30,
     "metadata": {},
     "output_type": "execute_result"
    }
   ],
   "source": []
  },
  {
   "cell_type": "code",
   "execution_count": 17,
   "metadata": {},
   "outputs": [
    {
     "data": {
      "text/html": [
       "<div>\n",
       "<style scoped>\n",
       "    .dataframe tbody tr th:only-of-type {\n",
       "        vertical-align: middle;\n",
       "    }\n",
       "\n",
       "    .dataframe tbody tr th {\n",
       "        vertical-align: top;\n",
       "    }\n",
       "\n",
       "    .dataframe thead th {\n",
       "        text-align: right;\n",
       "    }\n",
       "</style>\n",
       "<table border=\"1\" class=\"dataframe\">\n",
       "  <thead>\n",
       "    <tr style=\"text-align: right;\">\n",
       "      <th></th>\n",
       "      <th>contig</th>\n",
       "      <th>position</th>\n",
       "      <th>reference_kmer</th>\n",
       "      <th>read_name</th>\n",
       "      <th>event_level_mean</th>\n",
       "    </tr>\n",
       "  </thead>\n",
       "  <tbody>\n",
       "    <tr>\n",
       "      <th>48240510</th>\n",
       "      <td>ENST00000007516.8</td>\n",
       "      <td>9</td>\n",
       "      <td>CCTGG</td>\n",
       "      <td>4d9aa0ae-fb1a-48bc-b663-7519806ca801</td>\n",
       "      <td>86.755</td>\n",
       "    </tr>\n",
       "    <tr>\n",
       "      <th>48240511</th>\n",
       "      <td>ENST00000007516.8</td>\n",
       "      <td>10</td>\n",
       "      <td>CTGGG</td>\n",
       "      <td>1018b194-8f36-4814-99bb-7191026dfeff</td>\n",
       "      <td>108.320</td>\n",
       "    </tr>\n",
       "    <tr>\n",
       "      <th>48240512</th>\n",
       "      <td>ENST00000007516.8</td>\n",
       "      <td>10</td>\n",
       "      <td>CTGGG</td>\n",
       "      <td>4d9aa0ae-fb1a-48bc-b663-7519806ca801</td>\n",
       "      <td>104.340</td>\n",
       "    </tr>\n",
       "    <tr>\n",
       "      <th>48240513</th>\n",
       "      <td>ENST00000007516.8</td>\n",
       "      <td>11</td>\n",
       "      <td>TGGGT</td>\n",
       "      <td>1018b194-8f36-4814-99bb-7191026dfeff</td>\n",
       "      <td>115.820</td>\n",
       "    </tr>\n",
       "    <tr>\n",
       "      <th>48240514</th>\n",
       "      <td>ENST00000007516.8</td>\n",
       "      <td>11</td>\n",
       "      <td>TGGGT</td>\n",
       "      <td>1e8a11f3-0905-4f57-88a9-78b114a8d423</td>\n",
       "      <td>107.935</td>\n",
       "    </tr>\n",
       "  </tbody>\n",
       "</table>\n",
       "</div>"
      ],
      "text/plain": [
       "                     contig  position reference_kmer  \\\n",
       "48240510  ENST00000007516.8         9          CCTGG   \n",
       "48240511  ENST00000007516.8        10          CTGGG   \n",
       "48240512  ENST00000007516.8        10          CTGGG   \n",
       "48240513  ENST00000007516.8        11          TGGGT   \n",
       "48240514  ENST00000007516.8        11          TGGGT   \n",
       "\n",
       "                                     read_name  event_level_mean  \n",
       "48240510  4d9aa0ae-fb1a-48bc-b663-7519806ca801            86.755  \n",
       "48240511  1018b194-8f36-4814-99bb-7191026dfeff           108.320  \n",
       "48240512  4d9aa0ae-fb1a-48bc-b663-7519806ca801           104.340  \n",
       "48240513  1018b194-8f36-4814-99bb-7191026dfeff           115.820  \n",
       "48240514  1e8a11f3-0905-4f57-88a9-78b114a8d423           107.935  "
      ]
     },
     "execution_count": 17,
     "metadata": {},
     "output_type": "execute_result"
    }
   ],
   "source": [
    "# Filter the data\n",
    "df = df[df['contig'] == 'ENST00000007516.8']\n",
    "\n",
    "df.compute().head()"
   ]
  }
 ],
 "metadata": {
  "kernelspec": {
   "display_name": "nanorms",
   "language": "python",
   "name": "python3"
  },
  "language_info": {
   "codemirror_mode": {
    "name": "ipython",
    "version": 3
   },
   "file_extension": ".py",
   "mimetype": "text/x-python",
   "name": "python",
   "nbconvert_exporter": "python",
   "pygments_lexer": "ipython3",
   "version": "3.6.11"
  },
  "orig_nbformat": 4
 },
 "nbformat": 4,
 "nbformat_minor": 2
}
