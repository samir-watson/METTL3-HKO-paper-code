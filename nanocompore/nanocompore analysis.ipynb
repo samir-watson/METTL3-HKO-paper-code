{
 "cells": [
  {
   "cell_type": "code",
   "execution_count": null,
   "metadata": {},
   "outputs": [],
   "source": [
    "from nanocompore.SampCompDB import SampCompDB, jhelp\n",
    "db = SampCompDB (\n",
    "  db_fn = \"/home/samirwatson/faststorage/METTL3/DRS_data/nanocompore/nanocompore_results/3rd_analysis/out_SampComp.db\",\n",
    "  fasta_fn = \"/home/samirwatson/faststorage/NAT10/gencode.v33.transcripts_shorthead.fa\",\n",
    "  bed_fn = \"/home/samirwatson/faststorage/NAT10/gencode.v33.annotation.bed\"\n",
    ")"
   ]
  },
  {
   "cell_type": "code",
   "execution_count": null,
   "metadata": {},
   "outputs": [],
   "source": [
    "db.save_all (\"/home/samirwatson/faststorage/METTL3/DRS_data/nanocompore/nanocompore_results/3rd_analysis/WT_v_A56_DRS.3_\")"
   ]
  },
  {
   "cell_type": "code",
   "execution_count": null,
   "metadata": {},
   "outputs": [],
   "source": [
    "import matplotlib.pyplot as pl\n",
    "%matplotlib inline"
   ]
  },
  {
   "cell_type": "code",
   "execution_count": null,
   "metadata": {},
   "outputs": [],
   "source": [
    "fig, ax = db.plot_pvalue (\"ENST00000395422.4\", palette= \"Set1\") \n",
    "ax.set_facecolor('white')\n",
    "ax.spines['bottom'].set_color('black')\n",
    "ax.spines['left'].set_color('black')"
   ]
  },
  {
   "cell_type": "code",
   "execution_count": null,
   "metadata": {},
   "outputs": [],
   "source": [
    "fig, ax = db.plot_signal (\"ENST00000395422.4\", start=90, end=100, palette= \"Set1\")"
   ]
  },
  {
   "cell_type": "code",
   "execution_count": null,
   "metadata": {},
   "outputs": [],
   "source": [
    "fig, ax = db.plot_position (\"ENST00000395422.4\", pos=94, palette= \"Set1\", scatter = False, ylim = (-2, 3), xlim = (-4, 3), alpha = 0.8)\n",
    "ax.set_facecolor('white')\n",
    "ax.spines['bottom'].set_color('black')\n",
    "ax.spines['left'].set_color('black')"
   ]
  },
  {
   "cell_type": "code",
   "execution_count": null,
   "metadata": {},
   "outputs": [],
   "source": [
    "fig, ax = db.plot_pvalue (\"ENST00000334828.6\", palette= \"Set1\" ) "
   ]
  },
  {
   "cell_type": "code",
   "execution_count": null,
   "metadata": {},
   "outputs": [],
   "source": [
    "fig, ax = db.plot_signal (\"ENST00000334828.6\", start=360, end=370, palette= \"Set1\")"
   ]
  },
  {
   "cell_type": "code",
   "execution_count": null,
   "metadata": {},
   "outputs": [],
   "source": [
    "fig, ax = db.plot_position (\"ENST00000334828.6\", palette= \"Set1\", pos=365, scatter = False,alpha = 0.8, ylim = (-3, 3), xlim = (-2, 2)) "
   ]
  },
  {
   "cell_type": "code",
   "execution_count": null,
   "metadata": {
    "scrolled": true
   },
   "outputs": [],
   "source": [
    "fig, ax = db.plot_pvalue (\"ENST00000573283.7\", palette= \"Set1\") \n",
    "ax.set_facecolor('white')\n",
    "ax.spines['bottom'].set_color('black')\n",
    "ax.spines['left'].set_color('black')"
   ]
  },
  {
   "cell_type": "code",
   "execution_count": null,
   "metadata": {},
   "outputs": [],
   "source": [
    "fig, ax = db.plot_signal (\"ENST00000573283.7\", start=930, end=950, palette= \"Set1\")"
   ]
  },
  {
   "cell_type": "code",
   "execution_count": null,
   "metadata": {},
   "outputs": [],
   "source": [
    "fig, ax = db.plot_position (\"ENST00000573283.7\", palette= \"Set1\", pos=940, scatter = False,alpha = 0.8, ylim = (-3, 3), xlim = (-2, 2))\n",
    "ax.set_facecolor('white')\n",
    "ax.spines['bottom'].set_color('black')\n",
    "ax.spines['left'].set_color('black')"
   ]
  },
  {
   "cell_type": "code",
   "execution_count": null,
   "metadata": {},
   "outputs": [],
   "source": [
    "fig, ax = db.plot_pvalue (\"ENST00000222247.10\", palette= \"Set1\") \n",
    "ax.set_facecolor('white')\n",
    "ax.spines['bottom'].set_color('black')\n",
    "ax.spines['left'].set_color('black')"
   ]
  },
  {
   "cell_type": "code",
   "execution_count": null,
   "metadata": {},
   "outputs": [],
   "source": [
    "fig, ax = db.plot_signal (\"ENST00000222247.10\", start=315, end=325, palette= \"Set1\")"
   ]
  },
  {
   "cell_type": "code",
   "execution_count": null,
   "metadata": {},
   "outputs": [],
   "source": [
    "fig, ax = db.plot_position (\"ENST00000222247.10\", palette= \"Set1\", pos=319, scatter = False,alpha = 0.8, ylim = (-3, 3), xlim = (-2, 2))\n",
    "ax.set_facecolor('white')\n",
    "ax.spines['bottom'].set_color('black')\n",
    "ax.spines['left'].set_color('black')"
   ]
  },
  {
   "cell_type": "markdown",
   "metadata": {},
   "source": [
    "# S100A9 ENST00000368738.4 (MIF related protein 9 MRP9)"
   ]
  },
  {
   "cell_type": "code",
   "execution_count": null,
   "metadata": {},
   "outputs": [],
   "source": [
    "fig, ax = db.plot_pvalue (\"ENST00000368738.4\", palette= \"Set1\") \n",
    "ax.set_facecolor('white')\n",
    "ax.spines['bottom'].set_color('black')\n",
    "ax.spines['left'].set_color('black')"
   ]
  },
  {
   "cell_type": "code",
   "execution_count": null,
   "metadata": {},
   "outputs": [],
   "source": [
    "fig, ax = db.plot_signal (\"ENST00000368738.4\", start=420, end=430, palette= \"Set1\")"
   ]
  },
  {
   "cell_type": "code",
   "execution_count": null,
   "metadata": {},
   "outputs": [],
   "source": [
    "fig, ax = db.plot_position (\"ENST00000368738.4\", palette= \"Set1\", pos=426, scatter = False,alpha = 0.8, ylim = (-3, 3), xlim = (-2, 2))\n",
    "ax.set_facecolor('white')\n",
    "ax.spines['bottom'].set_color('black')\n",
    "ax.spines['left'].set_color('black')"
   ]
  },
  {
   "cell_type": "code",
   "execution_count": null,
   "metadata": {},
   "outputs": [],
   "source": [
    "fig, ax = db.plot_pvalue (\"ENST00000215754.8\", palette= \"Set1\") \n",
    "ax.set_facecolor('white')\n",
    "ax.spines['bottom'].set_color('black')\n",
    "ax.spines['left'].set_color('black')"
   ]
  },
  {
   "cell_type": "code",
   "execution_count": null,
   "metadata": {},
   "outputs": [],
   "source": [
    "fig, ax = db.plot_signal (\"ENST00000215754.8\", start=510, end=520, palette= \"Set1\")"
   ]
  },
  {
   "cell_type": "code",
   "execution_count": null,
   "metadata": {},
   "outputs": [],
   "source": [
    "pl.rcParams['lines.linewidth'] = 3\n",
    "fig, ax = db.plot_position (\"ENST00000215754.8\", palette= \"Set1\", pos=513, scatter = False,alpha = 0.8, ylim = (-3, 3), xlim = (-2, 2))\n",
    "ax.set_facecolor('white')\n",
    "ax.spines['bottom'].set_color('black')\n",
    "ax.spines['left'].set_color('black')"
   ]
  },
  {
   "cell_type": "markdown",
   "metadata": {},
   "source": [
    "# RPL7A ENST00000323345.11"
   ]
  },
  {
   "cell_type": "code",
   "execution_count": null,
   "metadata": {},
   "outputs": [],
   "source": [
    "fig, ax = db.plot_pvalue (\"ENST00000323345.11\", palette= \"Set1\") \n",
    "ax.set_facecolor('white')\n",
    "ax.spines['bottom'].set_color('black')\n",
    "ax.spines['left'].set_color('black')\n",
    "fig.savefig('RPL7A.ENST00000323345.11.pvalue.png', dpi=300, bbox_inches='tight')"
   ]
  },
  {
   "cell_type": "code",
   "execution_count": null,
   "metadata": {},
   "outputs": [],
   "source": [
    "fig, ax = db.plot_signal (\"ENST00000323345.11\", start=440, end=452, palette= \"Set1\")\n",
    "fig.savefig('RPL7A.ENST00000323345.11.signal.440-452.png', dpi=300, bbox_inches='tight')"
   ]
  },
  {
   "cell_type": "code",
   "execution_count": null,
   "metadata": {},
   "outputs": [],
   "source": [
    "pl.rcParams['lines.linewidth'] = 3\n",
    "fig, ax = db.plot_position (\"ENST00000323345.11\", palette= \"Set1\", pos=448, scatter = False,alpha = 0.8, ylim = (-3, 3), xlim = (-2, 2))\n",
    "ax.set_facecolor('white')\n",
    "ax.spines['bottom'].set_color('black')\n",
    "ax.spines['left'].set_color('black')"
   ]
  },
  {
   "cell_type": "code",
   "execution_count": null,
   "metadata": {},
   "outputs": [],
   "source": [
    "fig, ax = db.plot_coverage (\"ENST00000323345.11\")\n",
    "fig.savefig('RPL7A.ENST00000323345.11.coverage.png', dpi=300, bbox_inches='tight')"
   ]
  },
  {
   "cell_type": "code",
   "execution_count": null,
   "metadata": {},
   "outputs": [],
   "source": [
    "fig, ax = db.plot_kmers_stats (\"ENST00000323345.11\")\n",
    "fig.savefig('RPL7A.ENST00000323345.11.kmer_stats.png', dpi=300, bbox_inches='tight')"
   ]
  },
  {
   "cell_type": "markdown",
   "metadata": {},
   "source": [
    "## GAS5"
   ]
  },
  {
   "cell_type": "code",
   "execution_count": null,
   "metadata": {},
   "outputs": [],
   "source": [
    "fig, ax = db.plot_pvalue (\"ENST00000450589.5\", palette= \"Set1\") \n",
    "ax.set_facecolor('white')\n",
    "ax.spines['bottom'].set_color('black')\n",
    "ax.spines['left'].set_color('black')"
   ]
  },
  {
   "cell_type": "code",
   "execution_count": null,
   "metadata": {},
   "outputs": [],
   "source": [
    "fig, ax = db.plot_signal (\"ENST00000450589.5\", start=235, end=245, palette= \"Set1\")"
   ]
  },
  {
   "cell_type": "code",
   "execution_count": null,
   "metadata": {
    "scrolled": true
   },
   "outputs": [],
   "source": [
    "pl.rcParams['lines.linewidth'] = 3\n",
    "fig, ax = db.plot_position (\"ENST00000450589.5\", palette= \"Set1\", pos=241, scatter = False,alpha = 0.8, ylim = (-3, 3), xlim = (-2, 2))\n",
    "ax.set_facecolor('white')\n",
    "ax.spines['bottom'].set_color('black')\n",
    "ax.spines['left'].set_color('black')"
   ]
  },
  {
   "cell_type": "code",
   "execution_count": null,
   "metadata": {},
   "outputs": [],
   "source": [
    "pl.rcParams['lines.linewidth'] = 3\n",
    "fig, ax = db.plot_position (\"ENST00000450589.5\", palette= \"Set1\", pos=242, scatter = False,alpha = 0.8, ylim = (-3, 3), xlim = (-2, 2))\n",
    "ax.set_facecolor('white')\n",
    "ax.spines['bottom'].set_color('black')\n",
    "ax.spines['left'].set_color('black')"
   ]
  },
  {
   "cell_type": "code",
   "execution_count": null,
   "metadata": {},
   "outputs": [],
   "source": [
    "fig, ax = db.plot_signal (\"ENST00000450589.5\", start=337, end=343, palette= \"Set1\")"
   ]
  },
  {
   "cell_type": "code",
   "execution_count": null,
   "metadata": {},
   "outputs": [],
   "source": [
    "pl.rcParams['lines.linewidth'] = 3\n",
    "fig, ax = db.plot_position (\"ENST00000450589.5\", palette= \"Set1\", pos=341, scatter = False,alpha = 0.8, ylim = (-3, 3), xlim = (-2, 2))\n",
    "ax.set_facecolor('white')\n",
    "ax.spines['bottom'].set_color('black')\n",
    "ax.spines['left'].set_color('black')"
   ]
  },
  {
   "cell_type": "code",
   "execution_count": null,
   "metadata": {},
   "outputs": [],
   "source": [
    "this is a reperesnative non modified region"
   ]
  },
  {
   "cell_type": "code",
   "execution_count": null,
   "metadata": {},
   "outputs": [],
   "source": [
    "fig, ax = db.plot_signal (\"ENST00000450589.5\", start=62, end=67, palette= \"Set1\")"
   ]
  },
  {
   "cell_type": "code",
   "execution_count": null,
   "metadata": {},
   "outputs": [],
   "source": [
    "pl.rcParams['lines.linewidth'] = 3\n",
    "fig, ax = db.plot_position (\"ENST00000450589.5\", palette= \"Set1\", pos=63, scatter = False,alpha = 0.8, ylim = (-3, 3), xlim = (-2, 2))\n",
    "ax.set_facecolor('white')\n",
    "ax.spines['bottom'].set_color('black')\n",
    "ax.spines['left'].set_color('black')"
   ]
  },
  {
   "cell_type": "markdown",
   "metadata": {},
   "source": [
    "305 and 441 so far looks good as a negative 60 is also really good 63 is best"
   ]
  },
  {
   "cell_type": "markdown",
   "metadata": {},
   "source": [
    "# ACTB1 ENST00000215754.8"
   ]
  },
  {
   "cell_type": "code",
   "execution_count": null,
   "metadata": {},
   "outputs": [],
   "source": [
    "fig, ax = db.plot_pvalue (\"ENST00000646664.1\", palette= \"Set1\") \n",
    "ax.set_facecolor('white')\n",
    "ax.spines['bottom'].set_color('black')\n",
    "ax.spines['left'].set_color('black')"
   ]
  },
  {
   "cell_type": "code",
   "execution_count": null,
   "metadata": {},
   "outputs": [],
   "source": [
    "fig, ax = db.plot_signal (\"ENST00000646664.1\", start=940, end=950, palette= \"Set1\")"
   ]
  },
  {
   "cell_type": "code",
   "execution_count": null,
   "metadata": {},
   "outputs": [],
   "source": [
    "pl.rcParams['lines.linewidth'] = 3\n",
    "fig, ax = db.plot_position (\"ENST00000646664.1\", palette= \"Set1\", pos=942, scatter = False,alpha = 0.8, ylim = (-3, 3), xlim = (-2, 2))\n",
    "ax.set_facecolor('white')\n",
    "ax.spines['bottom'].set_color('black')\n",
    "ax.spines['left'].set_color('black')"
   ]
  },
  {
   "cell_type": "code",
   "execution_count": null,
   "metadata": {},
   "outputs": [],
   "source": [
    "pl.rcParams['lines.linewidth'] = 3\n",
    "fig, ax = db.plot_position (\"ENST00000646664.1\", palette= \"Set1\", pos=944, scatter = False,alpha = 0.8, ylim = (-3, 3), xlim = (-2, 2))\n",
    "ax.set_facecolor('white')\n",
    "ax.spines['bottom'].set_color('black')\n",
    "ax.spines['left'].set_color('black')"
   ]
  },
  {
   "cell_type": "markdown",
   "metadata": {},
   "source": [
    "\n"
   ]
  },
  {
   "cell_type": "markdown",
   "metadata": {},
   "source": []
  },
  {
   "cell_type": "markdown",
   "metadata": {},
   "source": [
    "# MIF ENST00000215754.8"
   ]
  },
  {
   "cell_type": "code",
   "execution_count": null,
   "metadata": {},
   "outputs": [],
   "source": [
    "fig, ax = db.plot_pvalue (\"ENST00000215754.8\", palette= \"Set1\") \n",
    "ax.set_facecolor('white')\n",
    "ax.spines['bottom'].set_color('black')\n",
    "ax.spines['left'].set_color('black')\n",
    "fig.savefig('MIF_ENST00000215754.8_plot_pval.png', dpi=300, bbox_inches='tight')"
   ]
  },
  {
   "cell_type": "code",
   "execution_count": null,
   "metadata": {},
   "outputs": [],
   "source": [
    "fig, ax = db.plot_coverage (\"ENST00000215754.8\")\n",
    "fig.savefig('MIF.ENST00000215754.8.coverage.png', dpi=300, bbox_inches='tight')"
   ]
  },
  {
   "cell_type": "code",
   "execution_count": null,
   "metadata": {},
   "outputs": [],
   "source": [
    "fig, ax = db.plot_kmers_stats (\"ENST00000215754.8\")\n",
    "fig.savefig('MIF.ENST00000215754.8.kmer_stats.png', dpi=300, bbox_inches='tight')"
   ]
  },
  {
   "cell_type": "code",
   "execution_count": null,
   "metadata": {},
   "outputs": [],
   "source": [
    "fig, ax = db.plot_signal (\"ENST00000215754.8\", start=510, end=520, palette= \"Set1\")\n",
    "fig.savefig('MIF_ENST00000215754.8_plot_signal_510-520.png', dpi=300, bbox_inches='tight')"
   ]
  },
  {
   "cell_type": "code",
   "execution_count": null,
   "metadata": {},
   "outputs": [],
   "source": [
    "#pl.rcParams['lines.linewidth'] = 3\n",
    "fig, ax = db.plot_position (\"ENST00000215754.8\", palette= \"Set1\", pos=513, scatter = False,alpha = 0.8, ylim = (-3, 3), xlim = (-2, 2))\n",
    "ax.set_facecolor('white')\n",
    "ax.spines['bottom'].set_color('black')\n",
    "ax.spines['left'].set_color('black')"
   ]
  },
  {
   "cell_type": "code",
   "execution_count": null,
   "metadata": {},
   "outputs": [],
   "source": [
    "import os\n",
    "print (os.environ['CONDA_DEFAULT_ENV'])"
   ]
  },
  {
   "cell_type": "markdown",
   "metadata": {},
   "source": [
    "# COX6B1 ENST00000649813.2"
   ]
  },
  {
   "cell_type": "code",
   "execution_count": null,
   "metadata": {},
   "outputs": [],
   "source": [
    "fig, ax = db.plot_pvalue (\"ENST00000649813.2\", palette= \"Set1\") \n",
    "ax.set_facecolor('white')\n",
    "ax.spines['bottom'].set_color('black')\n",
    "ax.spines['left'].set_color('black')\n",
    "fig.savefig('COX6B1.ENST00000649813.2.pvalue.png', dpi=300, bbox_inches='tight')"
   ]
  },
  {
   "cell_type": "code",
   "execution_count": null,
   "metadata": {},
   "outputs": [],
   "source": [
    "fig, ax = db.plot_signal (\"ENST00000649813.2\", start=101, end=115, palette= \"Set1\")\n",
    "fig.savefig('COX6B1.ENST00000649813.2.signal.101-115.png', dpi=300, bbox_inches='tight')"
   ]
  },
  {
   "cell_type": "code",
   "execution_count": null,
   "metadata": {},
   "outputs": [],
   "source": [
    "fig, ax = db.plot_coverage (\"ENST00000649813.2\")\n",
    "fig.savefig('COX6B1.ENST00000649813.2.coverage.png', dpi=300, bbox_inches='tight')"
   ]
  },
  {
   "cell_type": "code",
   "execution_count": null,
   "metadata": {},
   "outputs": [],
   "source": [
    "fig, ax = db.plot_kmers_stats (\"ENST00000649813.2\")\n",
    "fig.savefig('COX6B1.ENST00000649813.2.kmer_stats.png', dpi=300, bbox_inches='tight')"
   ]
  },
  {
   "cell_type": "markdown",
   "metadata": {},
   "source": [
    "# RPL13A ENST00000391857.9 "
   ]
  },
  {
   "cell_type": "code",
   "execution_count": null,
   "metadata": {},
   "outputs": [],
   "source": [
    "fig, ax = db.plot_pvalue (\"ENST00000391857.9\", palette= \"Set1\") \n",
    "ax.set_facecolor('white')\n",
    "ax.spines['bottom'].set_color('black')\n",
    "ax.spines['left'].set_color('black')\n",
    "fig.savefig('RPL13A.ENST00000391857.9.pvalue.png', dpi=300, bbox_inches='tight')"
   ]
  },
  {
   "cell_type": "code",
   "execution_count": null,
   "metadata": {},
   "outputs": [],
   "source": [
    "fig, ax = db.plot_coverage (\"ENST00000391857.9\")\n",
    "fig.savefig('RPL13A.ENST00000391857.9.coverage.png', dpi=300, bbox_inches='tight')"
   ]
  },
  {
   "cell_type": "code",
   "execution_count": null,
   "metadata": {},
   "outputs": [],
   "source": [
    "fig, ax = db.plot_kmers_stats (\"ENST00000391857.9\")\n",
    "fig.savefig('RPL13A.ENST00000391857.9.kmer_stats.png', dpi=300, bbox_inches='tight')"
   ]
  },
  {
   "cell_type": "code",
   "execution_count": null,
   "metadata": {
    "scrolled": true
   },
   "outputs": [],
   "source": [
    "fig, ax = db.plot_signal (\"ENST00000391857.9\", start=482, end=491, palette= \"Set1\")\n",
    "fig.savefig('RPL13A.ENST00000391857.9.signal.482-491.png', dpi=300, bbox_inches='tight')"
   ]
  },
  {
   "cell_type": "markdown",
   "metadata": {},
   "source": [
    "# EIF4EBP1"
   ]
  },
  {
   "cell_type": "code",
   "execution_count": 32,
   "metadata": {},
   "outputs": [],
   "source": [
    "import os\n",
    "import matplotlib.pyplot as plt\n",
    "\n",
    "# Define the absolute path for the 'fig' folder\n",
    "fig_folder_path = '/home/samirwatson/faststorage/METTL3/DRS_data/nanocompore/nanocompore_results/3rd_analysis/figures'\n",
    "\n",
    "# Create the 'fig' folder if it does not exist\n",
    "if not os.path.exists(fig_folder_path):\n",
    "    os.makedirs(fig_folder_path)\n",
    "\n",
    "# Set the default font size for all elements (you can adjust this value as needed)\n",
    "plt.rcParams.update({'font.size': 20})\n",
    "\n",
    "# Create the plot\n",
    "fig, ax = db.plot_pvalue(\"ENST00000338825.5\", palette=\"Set1\") \n",
    "\n",
    "# Get the current labels\n",
    "xlabel = ax.get_xlabel()\n",
    "ylabel = ax.get_ylabel()\n",
    "title = ax.get_title()\n",
    "\n",
    "# Set the font size for the axes labels\n",
    "ax.set_xlabel(xlabel, fontsize=18)  # Adjust the font size as needed\n",
    "ax.set_ylabel(ylabel, fontsize=18)  # Adjust the font size as needed\n",
    "\n",
    "# Set the font size for the title\n",
    "ax.set_title(title, fontsize=22)  # Adjust the font size as needed\n",
    "\n",
    "# Set the font size for the axis tick labels\n",
    "ax.tick_params(axis='both', which='major', labelsize=16)  # Adjust the font size as needed\n",
    "\n",
    "# Set the legend font size\n",
    "ax.legend(prop={'size': 12})  # Adjust the font size as needed\n",
    "\n",
    "# Set the face color and spine color\n",
    "ax.set_facecolor('white')\n",
    "ax.spines['bottom'].set_color('black')\n",
    "ax.spines['left'].set_color('black')\n",
    "\n",
    "# Save the figure with the updated font sizes\n",
    "fig.savefig(os.path.join(fig_folder_path, 'EIF4EBP1.ENST00000338825.5.pvalue.png'), dpi=300, bbox_inches='tight')"
   ]
  },
  {
   "cell_type": "code",
   "execution_count": null,
   "metadata": {},
   "outputs": [],
   "source": [
    "fig, ax = db.plot_signal (\"ENST00000338825.5\", start=635, end=642, palette= \"Set1\")\n",
    "fig.savefig('EIF4EBP1.ENST00000338825.5.signal.635-642.png', dpi=300, bbox_inches='tight')"
   ]
  },
  {
   "cell_type": "code",
   "execution_count": 33,
   "metadata": {},
   "outputs": [],
   "source": [
    "fig, ax = db.plot_coverage (\"ENST00000338825.5\")\n",
    "fig.savefig('EIF4EBP1.ENST00000338825.5.coverage.png', dpi=300, bbox_inches='tight')"
   ]
  },
  {
   "cell_type": "code",
   "execution_count": 34,
   "metadata": {},
   "outputs": [],
   "source": [
    "fig, ax = db.plot_kmers_stats (\"ENST00000338825.5\")\n",
    "fig.savefig('EIF4EBP1.ENST00000338825.5.kmer_stats.png', dpi=300, bbox_inches='tight')"
   ]
  },
  {
   "cell_type": "code",
   "execution_count": 36,
   "metadata": {},
   "outputs": [
    {
     "name": "stderr",
     "output_type": "stream",
     "text": [
      "/home/samirwatson/miniconda3/envs/nanocompore_stable3/lib/python3.7/site-packages/seaborn/distributions.py:1641: FutureWarning: Use `x` and `y` rather than `data` `and `data2`\n",
      "  warnings.warn(msg, FutureWarning)\n",
      "/home/samirwatson/miniconda3/envs/nanocompore_stable3/lib/python3.7/site-packages/seaborn/distributions.py:1641: FutureWarning: Use `x` and `y` rather than `data` `and `data2`\n",
      "  warnings.warn(msg, FutureWarning)\n",
      "No artists with labels found to put in legend.  Note that artists whose label start with an underscore are ignored when legend() is called with no argument.\n"
     ]
    }
   ],
   "source": [
    "#import matplotlib.pyplot as pl\n",
    "#pl.rcParams['lines.linewidth'] = 3\n",
    "fig, ax = db.plot_position (\"ENST00000338825.5\", palette= \"Set1\", pos=639, scatter = False,alpha = 0.8, ylim = (-3, 3), xlim = (-2, 2))\n",
    "ax.set_facecolor('white')\n",
    "ax.spines['bottom'].set_color('black')\n",
    "ax.spines['left'].set_color('black')\n",
    "fig.savefig('EIF4EBP1.ENST00000338825.plot.pos.639.png', dpi=300, bbox_inches='tight')"
   ]
  },
  {
   "cell_type": "code",
   "execution_count": 31,
   "metadata": {},
   "outputs": [],
   "source": []
  },
  {
   "cell_type": "code",
   "execution_count": null,
   "metadata": {},
   "outputs": [],
   "source": []
  },
  {
   "cell_type": "code",
   "execution_count": null,
   "metadata": {},
   "outputs": [],
   "source": []
  }
 ],
 "metadata": {
  "kernelspec": {
   "display_name": "Python 3 (ipykernel)",
   "language": "python",
   "name": "python3"
  },
  "language_info": {
   "codemirror_mode": {
    "name": "ipython",
    "version": 3
   },
   "file_extension": ".py",
   "mimetype": "text/x-python",
   "name": "python",
   "nbconvert_exporter": "python",
   "pygments_lexer": "ipython3",
   "version": "3.7.16"
  }
 },
 "nbformat": 4,
 "nbformat_minor": 4
}
